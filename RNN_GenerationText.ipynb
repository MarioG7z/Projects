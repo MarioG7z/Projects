{
 "cells": [
  {
   "cell_type": "code",
   "execution_count": null,
   "metadata": {},
   "outputs": [],
   "source": [
    "import sys\n",
    "import numpy\n",
    "import numpy as np\n",
    "from keras.models import Sequential\n",
    "from keras.layers import Dense, Dropout, LSTM\n",
    "from keras import optimizers\n",
    "from keras.callbacks import ModelCheckpoint\n",
    "from keras.utils import np_utils, multi_gpu_model\n",
    "from keras.models import load_model\n",
    "import matplotlib.pyplot as plt"
   ]
  },
  {
   "cell_type": "code",
   "execution_count": null,
   "metadata": {},
   "outputs": [],
   "source": [
    "#Load ascci text and convert to lowercase(this is useful to reduce the vocabulary)\n",
    "filename = \"UsefulPhrases.txt\"\n",
    "raw_text = open(filename).read()\n",
    "raw_text = raw_text.lower()"
   ]
  },
  {
   "cell_type": "code",
   "execution_count": null,
   "metadata": {},
   "outputs": [],
   "source": [
    "#OLD UsefulPhrases\n",
    "old ={\"%\",\"(\",\")\",\"-\",\"/\",\"[\",\"]\",\"=\",\"0\",\"1\",\"2\",\"3\",\"4\",\"5\",\"6\",\"7\",\"8\",\"9\"}\n",
    "#old = {\"@\",\"[\",\"]\",\"/\",\"\\n\",\"%\",\"$\",\"#\",\"-\",\"‘\",\"’\",\"*\",\"“\",\"”\",\"(\",\")\"}\n",
    "#old = {\"@\",\"[\",\"]\",\"/\",\"\\n\",\"%\",\"$\",\"'\",\"\\\"\",\"#\",\"-\",\"‘\",\"’\",\"*\",\"“\",\"”\",\"(\",\")\",\"*\",\"--\"}\n",
    "for old in old:\n",
    "    raw_text = raw_text.replace(old, \"\")"
   ]
  },
  {
   "cell_type": "code",
   "execution_count": null,
   "metadata": {},
   "outputs": [],
   "source": [
    "raw_text"
   ]
  },
  {
   "cell_type": "code",
   "execution_count": null,
   "metadata": {},
   "outputs": [],
   "source": [
    "#Create mapping of unique chars to integers\n",
    "chars = sorted(list(set(raw_text)))\n",
    "char_to_int = dict((c, i) for i,c in enumerate(chars))"
   ]
  },
  {
   "cell_type": "code",
   "execution_count": null,
   "metadata": {
    "scrolled": true
   },
   "outputs": [],
   "source": [
    "char_to_int"
   ]
  },
  {
   "cell_type": "code",
   "execution_count": null,
   "metadata": {},
   "outputs": [],
   "source": [
    "n_chars = len(raw_text)\n",
    "n_vocab = len(chars)\n",
    "print(\"Total Characters: \", n_chars)\n",
    "print(\"Total Vocab: \", n_vocab)"
   ]
  },
  {
   "cell_type": "code",
   "execution_count": null,
   "metadata": {},
   "outputs": [],
   "source": [
    "# prepare the dataset of input to output pairs encoded as integers\n",
    "seq_length = 10\n",
    "dataX = []\n",
    "dataY = []\n",
    "for i in range(0, n_chars - seq_length, 1):\n",
    "    seq_in = raw_text[i:i + seq_length]\n",
    "    seq_out = raw_text[i + seq_length]\n",
    "    dataX.append([char_to_int[char] for char in seq_in])\n",
    "    dataY.append(char_to_int[seq_out])\n",
    "n_patterns = len(dataX)\n",
    "print(\"Total Patterns: \", n_patterns)"
   ]
  },
  {
   "cell_type": "code",
   "execution_count": null,
   "metadata": {},
   "outputs": [],
   "source": [
    "len(dataX)"
   ]
  },
  {
   "cell_type": "code",
   "execution_count": null,
   "metadata": {},
   "outputs": [],
   "source": [
    "# reshape X to be [samples, time steps, features]\n",
    "X = numpy.reshape(dataX, (n_patterns, seq_length, 1))\n",
    "# normalize\n",
    "X = X / float(n_vocab)\n",
    "# one hot encode the output variable\n",
    "y = np_utils.to_categorical(dataY)"
   ]
  },
  {
   "cell_type": "code",
   "execution_count": null,
   "metadata": {},
   "outputs": [],
   "source": [
    "y[5]"
   ]
  },
  {
   "cell_type": "code",
   "execution_count": null,
   "metadata": {
    "scrolled": true
   },
   "outputs": [],
   "source": [
    "X[5]"
   ]
  },
  {
   "cell_type": "code",
   "execution_count": null,
   "metadata": {},
   "outputs": [],
   "source": [
    "X.shape, y.shape"
   ]
  },
  {
   "cell_type": "code",
   "execution_count": null,
   "metadata": {},
   "outputs": [],
   "source": [
    "# define the LSTM model\n",
    "model = Sequential()\n",
    "model.add(LSTM(1000, input_shape=(X.shape[1],X.shape[2]), return_sequences=True))\n",
    "model.add(Dropout(0.5))\n",
    "model.add(LSTM(1000))\n",
    "model.add(Dropout(0.5))\n",
    "model.add(Dense(y.shape[1], activation='softmax'))"
   ]
  },
  {
   "cell_type": "code",
   "execution_count": null,
   "metadata": {},
   "outputs": [],
   "source": [
    "model.summary()"
   ]
  },
  {
   "cell_type": "code",
   "execution_count": null,
   "metadata": {},
   "outputs": [],
   "source": [
    "model = multi_gpu_model(model, gpus=2)\n",
    "adm = optimizers.Adam(lr=0.001)\n",
    "model.compile(loss='categorical_crossentropy', optimizer=adm, metrics=['accuracy'])"
   ]
  },
  {
   "cell_type": "code",
   "execution_count": null,
   "metadata": {},
   "outputs": [],
   "source": [
    "# define the checkpoint\n",
    "#filepath=\"weights-improvement-{epoch:02d}-{loss:.4f}.hdf5\"\n",
    "filepath = \"BestModelv4.hdf5\"\n",
    "checkpoint = ModelCheckpoint(filepath, monitor='loss', verbose=1, save_best_only=True, mode='auto')\n",
    "\n",
    "#history = model.fit(X, y, epochs=500, batch_size=X.shape[0]//64, callbacks=[checkpoint], validation_split=0.1)\n",
    "history = model.fit(X, y, epochs=500, batch_size=X.shape[0]//256, callbacks=[checkpoint], validation_split=0.1)"
   ]
  },
  {
   "cell_type": "code",
   "execution_count": null,
   "metadata": {
    "scrolled": true
   },
   "outputs": [],
   "source": [
    "# Plot model accuracy\n",
    "plt.plot(history.history['acc'])\n",
    "plt.plot(history.history['val_acc'])\n",
    "plt.title('Accuracy')\n",
    "plt.ylabel('accuracy')\n",
    "plt.xlabel('epoch')\n",
    "plt.legend(['train', 'test'], loc='upper left')\n",
    "plt.show()\n",
    "\n",
    "# Plot model loss\n",
    "plt.plot(history.history['loss'])\n",
    "plt.plot(history.history['val_loss'])\n",
    "plt.title('Loss')\n",
    "plt.ylabel('loss')\n",
    "plt.xlabel('epoch')\n",
    "plt.legend(['train', 'test'], loc='upper left')\n",
    "plt.show()"
   ]
  },
  {
   "cell_type": "code",
   "execution_count": null,
   "metadata": {
    "scrolled": false
   },
   "outputs": [],
   "source": [
    "###OPT\n",
    "from pandas import DataFrame\n",
    "from time import time\n",
    "\n",
    "train_loss = DataFrame()\n",
    "val_loss = DataFrame()\n",
    "train_acc = DataFrame()\n",
    "val_acc = DataFrame()\n",
    "#learning_rate = 0.01, 0.001, 0.0001\n",
    "#batch_size = 32, 64, 128\n",
    "mem_unit = 250, 500, 750, 1000\n",
    "#for learning_rate in learning_rate:\n",
    "for mem_unit in mem_unit:\n",
    "    #print('Training on Learning Rate Value set to:', learning_rate)\n",
    "    #print('Training on Batch Size Value set to:', batch_size)\n",
    "    print('Training on Batch Size Value set to:', mem_unit)\n",
    "    # define the LSTM model\n",
    "    model = Sequential()\n",
    "    model.add(LSTM(mem_unit, input_shape=(X.shape[1],X.shape[2])))\n",
    "    model.add(Dropout(0.5))\n",
    "    model.add(Dense(y.shape[1], activation='softmax'))\n",
    "    \n",
    "    model = multi_gpu_model(model, gpus=2)\n",
    "    model.compile(loss='categorical_crossentropy', optimizer=optimizers.Adam(lr=0.001), metrics=['accuracy'])\n",
    "    init = time()\n",
    "    #history = model.fit(X, y, epochs=250, batch_size=X.shape[0]//batch_size, validation_split=0.1, shuffle=False) \n",
    "    history = model.fit(X, y, epochs=500, batch_size=X.shape[0]//64, shuffle=False) \n",
    "    training_time = time() - init\n",
    "    print('')\n",
    "    print('Training time:', training_time)\n",
    "    print('')\n",
    "    train_loss[str(mem_unit)] = history.history['loss']\n",
    "    #val_loss[str(batch_size)] = history.history['val_loss']\n",
    "    train_acc[str(mem_unit)] = history.history['acc']\n",
    "    #val_acc[str(batch_size)] = history.history['val_acc']\n",
    "\n",
    "# plot train and validation loss across multiple runs\n",
    "plt.plot(train_loss, label='train')\n",
    "#plt.plot(val_loss, label='validation')\n",
    "plt.title('Loss')\n",
    "plt.ylabel('loss')\n",
    "plt.xlabel('epoch')\n",
    "#plt.legend(['Tr_L.R:0.1', 'Tr_L.R:0.01', 'Tr_L.R:0.001', 'Val_L.R:0.1', 'Val_L.R:0.01', 'Val_L.R:0.001'], loc='best')\n",
    "#plt.legend(['Tr_B:32', 'Tr_B:64', 'Tr_B:128', 'Val_B:32', 'Val_B:64', 'Val_B:128'], loc='best')\n",
    "#plt.legend(['Tr_B:32', 'Tr_B:64', 'Tr_B:128'], loc='best')\n",
    "plt.legend(['MemU:250', 'MemU:500', 'MemU:750', 'MemU:1000'], loc='best')\n",
    "plt.savefig('Bs_Loss_3.png')\n",
    "plt.show()\n",
    "\n",
    "# plot train and validation loss across multiple runs\n",
    "plt.plot(train_acc, label='validation')\n",
    "#plt.plot(val_acc, label='validation')\n",
    "plt.title('Accuracy')\n",
    "plt.ylabel('accuracy')\n",
    "plt.xlabel('epoch')\n",
    "#plt.legend(['Tr_L.R:0.1', 'Tr_L.R:0.01', 'Tr_L.R:0.001', 'Val_L.R:0.1', 'Val_L.R:0.01', 'Val_L.R:0.001'], loc='best')\n",
    "#plt.legend(['Tr_B:32', 'Tr_B:64', 'Tr_B:128', 'Val_B:32', 'Val_B:64', 'Val_B:128'], loc='best')\n",
    "#plt.legend(['Tr_B:32', 'Tr_B:64', 'Tr_B:128'], loc='best')\n",
    "plt.legend(['MemU:250', 'MemU:500', 'MemU:750', 'MemU:1000'], loc='best')\n",
    "plt.savefig('Bs_Acc_3.png')\n",
    "plt.show()"
   ]
  },
  {
   "cell_type": "code",
   "execution_count": null,
   "metadata": {},
   "outputs": [],
   "source": [
    "# plot train and validation loss across multiple runs\n",
    "plt.plot(train_loss, label='train')\n",
    "#plt.plot(val_loss, label='validation')\n",
    "plt.title('Loss')\n",
    "plt.ylabel('loss')\n",
    "plt.xlabel('epoch')\n",
    "plt.legend(['L.R:0.01', 'L.R:0.001', 'L.R:0.001'], loc='best')\n",
    "plt.savefig('Compair_Loss.png')\n",
    "plt.show()\n",
    "\n",
    "# plot train and validation loss across multiple runs\n",
    "plt.plot(train_acc, label='train')\n",
    "#plt.plot(val_acc, label='validation')\n",
    "plt.title('Accuracy')\n",
    "plt.ylabel('accuracy')\n",
    "plt.xlabel('epoch')\n",
    "plt.legend(['L.R:0.01', 'L.R:0.001', 'L.R:0.001'], loc='best')\n",
    "plt.savefig('Compair_Acc.png')\n",
    "plt.show()"
   ]
  },
  {
   "cell_type": "code",
   "execution_count": null,
   "metadata": {},
   "outputs": [],
   "source": [
    "import matplotlib.pyplot as plt\n",
    "# Plot model accuracy\n",
    "plt.plot(history.history['acc'])\n",
    "plt.plot(history.history['val_acc'], color='red')\n",
    "plt.title('Accuracy')\n",
    "plt.ylabel('accuracy')\n",
    "plt.xlabel('epoch')\n",
    "plt.legend(['train'], loc='best')\n",
    "plt.savefig('Model_acc.png')\n",
    "plt.show()"
   ]
  },
  {
   "cell_type": "code",
   "execution_count": null,
   "metadata": {},
   "outputs": [],
   "source": []
  },
  {
   "cell_type": "code",
   "execution_count": null,
   "metadata": {},
   "outputs": [],
   "source": [
    "# Plot model loss\n",
    "plt.plot(history.history['loss'])\n",
    "plt.plot(history.history['val_loss'], color='red')\n",
    "plt.title('Loss')\n",
    "plt.ylabel('loss')\n",
    "plt.xlabel('epoch')\n",
    "plt.legend(['train'], loc='best')\n",
    "plt.savefig('Model_loss.png')\n",
    "plt.show()"
   ]
  },
  {
   "cell_type": "code",
   "execution_count": null,
   "metadata": {},
   "outputs": [],
   "source": [
    "model = load_model('/home/abacus/DeepL/RecurrentNN/Project/BestModelv4.hdf5')"
   ]
  },
  {
   "cell_type": "code",
   "execution_count": null,
   "metadata": {},
   "outputs": [],
   "source": [
    "model.summary()"
   ]
  },
  {
   "cell_type": "code",
   "execution_count": null,
   "metadata": {},
   "outputs": [],
   "source": [
    "int_to_char = dict((i, c) for i, c in enumerate(chars))"
   ]
  },
  {
   "cell_type": "code",
   "execution_count": null,
   "metadata": {
    "scrolled": true
   },
   "outputs": [],
   "source": [
    "#pick a random seed\n",
    "start = numpy.random.randint(0, len(dataX)-1)\n",
    "pattern = dataX[start]\n",
    "print(\"Seed:\")\n",
    "print(\"\")\n",
    "print(\"\\\"\", ''.join([int_to_char[value] for value in pattern]), \"\\\"\")\n",
    "# generate characters\n",
    "for i in range(200):\n",
    "    x = numpy.reshape(pattern, (1, len(pattern), 1))\n",
    "    x = x / float(n_vocab)\n",
    "    prediction = model.predict(x, verbose=0)\n",
    "    index = numpy.argmax(prediction)\n",
    "    result = int_to_char[index]\n",
    "    seq_in = [int_to_char[value] for value in pattern]\n",
    "    sys.stdout.write(result)\n",
    "    pattern.append(index)\n",
    "    pattern = pattern[1:len(pattern)]\n",
    "print(\"\")\n",
    "print(\"\\nDone.\")"
   ]
  }
 ],
 "metadata": {
  "kernelspec": {
   "display_name": "Python 3",
   "language": "python",
   "name": "python3"
  },
  "language_info": {
   "codemirror_mode": {
    "name": "ipython",
    "version": 3
   },
   "file_extension": ".py",
   "mimetype": "text/x-python",
   "name": "python",
   "nbconvert_exporter": "python",
   "pygments_lexer": "ipython3",
   "version": "3.6.6"
  }
 },
 "nbformat": 4,
 "nbformat_minor": 2
}
